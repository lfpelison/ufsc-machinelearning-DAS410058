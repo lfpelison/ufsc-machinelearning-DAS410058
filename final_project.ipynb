{
 "cells": [
  {
   "cell_type": "markdown",
   "metadata": {},
   "source": [
    "# Web pages classification\n",
    "## A machine learning and data mining task\n",
    "* Data: http://www.cs.cmu.edu/afs/cs/project/theo-20/www/data/\n",
    "\n",
    "### UFSC - DAS - MACHINE LEARNING - JOMI FRED HUBNER\n",
    "* Authors: Luis Felipe Pelison, Alex Cani and Iago Oliveira\n",
    " \n",
    " ** Helped by: https://github.com/justmarkham/pycon-2016-tutorial/blob/master/tutorial_with_output.ipynb"
   ]
  },
  {
   "cell_type": "markdown",
   "metadata": {},
   "source": [
    "## 1. Importing data and python libraries"
   ]
  },
  {
   "cell_type": "code",
   "execution_count": 2,
   "metadata": {
    "collapsed": true
   },
   "outputs": [],
   "source": [
    "# -*- encoding: utf-8 -*-\n",
    "import pandas as pd\n",
    "import os\n",
    "import os.path\n",
    "import re\n",
    "import matplotlib as mpl\n",
    "import matplotlib.pyplot as plt\n",
    "import seaborn as sns\n",
    "\n",
    "# Para que os graficos apareçam\n",
    "%matplotlib inline"
   ]
  },
  {
   "cell_type": "markdown",
   "metadata": {},
   "source": [
    "### Python script to put data on a csv file"
   ]
  },
  {
   "cell_type": "code",
   "execution_count": 3,
   "metadata": {
    "scrolled": true
   },
   "outputs": [
    {
     "name": "stdout",
     "output_type": "stream",
     "text": [
      "8282\n"
     ]
    }
   ],
   "source": [
    "urls = []\n",
    "\n",
    "for dirpath, dirnames, filenames in os.walk(\"./webkb\"):\n",
    "    for filename in filenames:\n",
    "        urls.append(os.path.join(dirpath, filename))\n",
    "\n",
    "print len(urls)\n",
    "\n",
    "regex = r\"\\<([\\s\\S]*)>\"\n",
    "\n",
    "with open('corpus.csv', 'w') as output:\n",
    "    for j, i in enumerate(urls):\n",
    "        with open(i) as input:\n",
    "            if j == 0:\n",
    "                output.write(\"url-||-university-||-html-||-target \\n\")\n",
    "            search = re.search(regex, input.read())\n",
    "            if search: \n",
    "                html = search.group(0).replace('\\n', ' ').replace('\\r', '')\n",
    "            else:\n",
    "                html = 'NaN'\n",
    "            target = i.split(\"/\")[2]\n",
    "            university = i.split(\"/\")[3]\n",
    "            url = i.split(\"/\")[4]\n",
    "            #print j\n",
    "            output.write(\"{0}-||-{1}-||-{2}-||-{3} \\n\".format(url, university, html, target))\n"
   ]
  },
  {
   "cell_type": "markdown",
   "metadata": {},
   "source": [
    "### CSV to PANDAS"
   ]
  },
  {
   "cell_type": "code",
   "execution_count": 5,
   "metadata": {},
   "outputs": [
    {
     "name": "stdout",
     "output_type": "stream",
     "text": [
      "CPU times: user 0 ns, sys: 0 ns, total: 0 ns\n",
      "Wall time: 5.96 µs\n"
     ]
    }
   ],
   "source": [
    "#one = pd.read_html\n",
    "path = './corpus.csv'\n",
    "one = pd.read_csv(path, sep=r\"\\-\\|\\|-\", quotechar='\"', engine='python')\n",
    "%time"
   ]
  },
  {
   "cell_type": "code",
   "execution_count": 6,
   "metadata": {},
   "outputs": [
    {
     "data": {
      "text/html": [
       "<div>\n",
       "<style>\n",
       "    .dataframe thead tr:only-child th {\n",
       "        text-align: right;\n",
       "    }\n",
       "\n",
       "    .dataframe thead th {\n",
       "        text-align: left;\n",
       "    }\n",
       "\n",
       "    .dataframe tbody tr th {\n",
       "        vertical-align: top;\n",
       "    }\n",
       "</style>\n",
       "<table border=\"1\" class=\"dataframe\">\n",
       "  <thead>\n",
       "    <tr style=\"text-align: right;\">\n",
       "      <th></th>\n",
       "      <th>url</th>\n",
       "      <th>university</th>\n",
       "      <th>html</th>\n",
       "      <th>target</th>\n",
       "    </tr>\n",
       "  </thead>\n",
       "  <tbody>\n",
       "    <tr>\n",
       "      <th>0</th>\n",
       "      <td>http:^^www.cs.utexas.edu^users^less^</td>\n",
       "      <td>texas</td>\n",
       "      <td>&lt;!DOCTYPE HTML PUBLIC \"-//W3C//DTD HTML 3.2//E...</td>\n",
       "      <td>project</td>\n",
       "    </tr>\n",
       "    <tr>\n",
       "      <th>1</th>\n",
       "      <td>http:^^www.cs.utexas.edu^users^vlr^sac.html</td>\n",
       "      <td>texas</td>\n",
       "      <td>&lt;title&gt;UT Algorithms and Computational Theory ...</td>\n",
       "      <td>project</td>\n",
       "    </tr>\n",
       "    <tr>\n",
       "      <th>2</th>\n",
       "      <td>http:^^www.cs.utexas.edu^users^lam^NRL^</td>\n",
       "      <td>texas</td>\n",
       "      <td>&lt;title&gt; Networking Research Laboratory, UT-Aus...</td>\n",
       "      <td>project</td>\n",
       "    </tr>\n",
       "    <tr>\n",
       "      <th>3</th>\n",
       "      <td>http:^^www.cs.utexas.edu^users^cad^cad.html</td>\n",
       "      <td>texas</td>\n",
       "      <td>&lt;title&gt; UTCS CAD Home page &lt;/title&gt;  &lt;h1&gt; CAD ...</td>\n",
       "      <td>project</td>\n",
       "    </tr>\n",
       "    <tr>\n",
       "      <th>4</th>\n",
       "      <td>http:^^www.cs.utexas.edu^users^ai-lab^</td>\n",
       "      <td>texas</td>\n",
       "      <td>&lt;title&gt;UT Artificial Intelligence Laboratory&lt;/...</td>\n",
       "      <td>project</td>\n",
       "    </tr>\n",
       "  </tbody>\n",
       "</table>\n",
       "</div>"
      ],
      "text/plain": [
       "                                           url university  \\\n",
       "0         http:^^www.cs.utexas.edu^users^less^      texas   \n",
       "1  http:^^www.cs.utexas.edu^users^vlr^sac.html      texas   \n",
       "2      http:^^www.cs.utexas.edu^users^lam^NRL^      texas   \n",
       "3  http:^^www.cs.utexas.edu^users^cad^cad.html      texas   \n",
       "4       http:^^www.cs.utexas.edu^users^ai-lab^      texas   \n",
       "\n",
       "                                                html   target  \n",
       "0  <!DOCTYPE HTML PUBLIC \"-//W3C//DTD HTML 3.2//E...  project  \n",
       "1  <title>UT Algorithms and Computational Theory ...  project  \n",
       "2  <title> Networking Research Laboratory, UT-Aus...  project  \n",
       "3  <title> UTCS CAD Home page </title>  <h1> CAD ...  project  \n",
       "4  <title>UT Artificial Intelligence Laboratory</...  project  "
      ]
     },
     "execution_count": 6,
     "metadata": {},
     "output_type": "execute_result"
    }
   ],
   "source": [
    "one.head()"
   ]
  },
  {
   "cell_type": "markdown",
   "metadata": {},
   "source": [
    "### Looking the data"
   ]
  },
  {
   "cell_type": "code",
   "execution_count": 7,
   "metadata": {
    "scrolled": true
   },
   "outputs": [
    {
     "data": {
      "text/html": [
       "<div>\n",
       "<style>\n",
       "    .dataframe thead tr:only-child th {\n",
       "        text-align: right;\n",
       "    }\n",
       "\n",
       "    .dataframe thead th {\n",
       "        text-align: left;\n",
       "    }\n",
       "\n",
       "    .dataframe tbody tr th {\n",
       "        vertical-align: top;\n",
       "    }\n",
       "</style>\n",
       "<table border=\"1\" class=\"dataframe\">\n",
       "  <thead>\n",
       "    <tr style=\"text-align: right;\">\n",
       "      <th></th>\n",
       "      <th>url</th>\n",
       "      <th>university</th>\n",
       "      <th>html</th>\n",
       "      <th>target</th>\n",
       "    </tr>\n",
       "  </thead>\n",
       "  <tbody>\n",
       "    <tr>\n",
       "      <th>count</th>\n",
       "      <td>8282</td>\n",
       "      <td>8282</td>\n",
       "      <td>8265</td>\n",
       "      <td>8282</td>\n",
       "    </tr>\n",
       "    <tr>\n",
       "      <th>unique</th>\n",
       "      <td>8275</td>\n",
       "      <td>5</td>\n",
       "      <td>8240</td>\n",
       "      <td>7</td>\n",
       "    </tr>\n",
       "    <tr>\n",
       "      <th>top</th>\n",
       "      <td>http:^^www.cs.columbia.edu^~simonb^</td>\n",
       "      <td>misc</td>\n",
       "      <td>&lt;html&gt; &lt;HEAD&gt; &lt;TITLE&gt;Department of Computer Sc...</td>\n",
       "      <td>other</td>\n",
       "    </tr>\n",
       "    <tr>\n",
       "      <th>freq</th>\n",
       "      <td>2</td>\n",
       "      <td>4120</td>\n",
       "      <td>2</td>\n",
       "      <td>3764</td>\n",
       "    </tr>\n",
       "  </tbody>\n",
       "</table>\n",
       "</div>"
      ],
      "text/plain": [
       "                                        url university  \\\n",
       "count                                  8282       8282   \n",
       "unique                                 8275          5   \n",
       "top     http:^^www.cs.columbia.edu^~simonb^       misc   \n",
       "freq                                      2       4120   \n",
       "\n",
       "                                                     html target  \n",
       "count                                                8265   8282  \n",
       "unique                                               8240      7  \n",
       "top     <html> <HEAD> <TITLE>Department of Computer Sc...  other  \n",
       "freq                                                    2   3764  "
      ]
     },
     "execution_count": 7,
     "metadata": {},
     "output_type": "execute_result"
    }
   ],
   "source": [
    "one.describe()"
   ]
  },
  {
   "cell_type": "markdown",
   "metadata": {},
   "source": [
    "## Data Website :\n",
    "http://www.cs.cmu.edu/afs/cs/project/theo-20/www/data/\n",
    "\n",
    "### Number of data by universities\n",
    "\n",
    "* Cornell - 867\n",
    "* Misc - 4120\n",
    "* Texas - 827\n",
    "* Washington - 1205\n",
    "* Wisconsin - 1263\n",
    "\n",
    "** sum ** = 8282\n"
   ]
  },
  {
   "cell_type": "code",
   "execution_count": 8,
   "metadata": {},
   "outputs": [
    {
     "data": {
      "text/html": [
       "<div>\n",
       "<style>\n",
       "    .dataframe thead tr:only-child th {\n",
       "        text-align: right;\n",
       "    }\n",
       "\n",
       "    .dataframe thead th {\n",
       "        text-align: left;\n",
       "    }\n",
       "\n",
       "    .dataframe tbody tr th {\n",
       "        vertical-align: top;\n",
       "    }\n",
       "</style>\n",
       "<table border=\"1\" class=\"dataframe\">\n",
       "  <thead>\n",
       "    <tr style=\"text-align: right;\">\n",
       "      <th></th>\n",
       "      <th>url</th>\n",
       "      <th>html</th>\n",
       "      <th>target</th>\n",
       "    </tr>\n",
       "    <tr>\n",
       "      <th>university</th>\n",
       "      <th></th>\n",
       "      <th></th>\n",
       "      <th></th>\n",
       "    </tr>\n",
       "  </thead>\n",
       "  <tbody>\n",
       "    <tr>\n",
       "      <th>cornell</th>\n",
       "      <td>867</td>\n",
       "      <td>867</td>\n",
       "      <td>867</td>\n",
       "    </tr>\n",
       "    <tr>\n",
       "      <th>misc</th>\n",
       "      <td>4120</td>\n",
       "      <td>4104</td>\n",
       "      <td>4120</td>\n",
       "    </tr>\n",
       "    <tr>\n",
       "      <th>texas</th>\n",
       "      <td>827</td>\n",
       "      <td>827</td>\n",
       "      <td>827</td>\n",
       "    </tr>\n",
       "    <tr>\n",
       "      <th>washington</th>\n",
       "      <td>1205</td>\n",
       "      <td>1205</td>\n",
       "      <td>1205</td>\n",
       "    </tr>\n",
       "    <tr>\n",
       "      <th>wisconsin</th>\n",
       "      <td>1263</td>\n",
       "      <td>1262</td>\n",
       "      <td>1263</td>\n",
       "    </tr>\n",
       "  </tbody>\n",
       "</table>\n",
       "</div>"
      ],
      "text/plain": [
       "             url  html  target\n",
       "university                    \n",
       "cornell      867   867     867\n",
       "misc        4120  4104    4120\n",
       "texas        827   827     827\n",
       "washington  1205  1205    1205\n",
       "wisconsin   1263  1262    1263"
      ]
     },
     "execution_count": 8,
     "metadata": {},
     "output_type": "execute_result"
    }
   ],
   "source": [
    "one.groupby(one['university']).count()"
   ]
  },
  {
   "cell_type": "markdown",
   "metadata": {},
   "source": [
    "### Number of data by target class\n",
    "\n",
    "* course - (930)\n",
    "* department - (182)\n",
    "* faculty - (1124)\n",
    "* other - (3764)\n",
    "* project - (504)\n",
    "* staff - (137)\n",
    "* student - (1641)\n",
    "\n",
    "** sum ** = 8282"
   ]
  },
  {
   "cell_type": "code",
   "execution_count": 9,
   "metadata": {},
   "outputs": [
    {
     "data": {
      "text/html": [
       "<div>\n",
       "<style>\n",
       "    .dataframe thead tr:only-child th {\n",
       "        text-align: right;\n",
       "    }\n",
       "\n",
       "    .dataframe thead th {\n",
       "        text-align: left;\n",
       "    }\n",
       "\n",
       "    .dataframe tbody tr th {\n",
       "        vertical-align: top;\n",
       "    }\n",
       "</style>\n",
       "<table border=\"1\" class=\"dataframe\">\n",
       "  <thead>\n",
       "    <tr style=\"text-align: right;\">\n",
       "      <th></th>\n",
       "      <th>url</th>\n",
       "      <th>university</th>\n",
       "      <th>html</th>\n",
       "    </tr>\n",
       "    <tr>\n",
       "      <th>target</th>\n",
       "      <th></th>\n",
       "      <th></th>\n",
       "      <th></th>\n",
       "    </tr>\n",
       "  </thead>\n",
       "  <tbody>\n",
       "    <tr>\n",
       "      <th>course</th>\n",
       "      <td>930</td>\n",
       "      <td>930</td>\n",
       "      <td>930</td>\n",
       "    </tr>\n",
       "    <tr>\n",
       "      <th>department</th>\n",
       "      <td>182</td>\n",
       "      <td>182</td>\n",
       "      <td>182</td>\n",
       "    </tr>\n",
       "    <tr>\n",
       "      <th>faculty</th>\n",
       "      <td>1124</td>\n",
       "      <td>1124</td>\n",
       "      <td>1124</td>\n",
       "    </tr>\n",
       "    <tr>\n",
       "      <th>other</th>\n",
       "      <td>3764</td>\n",
       "      <td>3764</td>\n",
       "      <td>3747</td>\n",
       "    </tr>\n",
       "    <tr>\n",
       "      <th>project</th>\n",
       "      <td>504</td>\n",
       "      <td>504</td>\n",
       "      <td>504</td>\n",
       "    </tr>\n",
       "    <tr>\n",
       "      <th>staff</th>\n",
       "      <td>137</td>\n",
       "      <td>137</td>\n",
       "      <td>137</td>\n",
       "    </tr>\n",
       "    <tr>\n",
       "      <th>student</th>\n",
       "      <td>1641</td>\n",
       "      <td>1641</td>\n",
       "      <td>1641</td>\n",
       "    </tr>\n",
       "  </tbody>\n",
       "</table>\n",
       "</div>"
      ],
      "text/plain": [
       "             url  university  html\n",
       "target                            \n",
       "course       930         930   930\n",
       "department   182         182   182\n",
       "faculty     1124        1124  1124\n",
       "other       3764        3764  3747\n",
       "project      504         504   504\n",
       "staff        137         137   137\n",
       "student     1641        1641  1641"
      ]
     },
     "execution_count": 9,
     "metadata": {},
     "output_type": "execute_result"
    }
   ],
   "source": [
    "one.groupby(one['target']).count()"
   ]
  },
  {
   "cell_type": "markdown",
   "metadata": {},
   "source": [
    "### Some html are 'NaN'.\n",
    "\n",
    "* Let's delete them.\n"
   ]
  },
  {
   "cell_type": "code",
   "execution_count": 10,
   "metadata": {},
   "outputs": [
    {
     "data": {
      "text/html": [
       "<div>\n",
       "<style>\n",
       "    .dataframe thead tr:only-child th {\n",
       "        text-align: right;\n",
       "    }\n",
       "\n",
       "    .dataframe thead th {\n",
       "        text-align: left;\n",
       "    }\n",
       "\n",
       "    .dataframe tbody tr th {\n",
       "        vertical-align: top;\n",
       "    }\n",
       "</style>\n",
       "<table border=\"1\" class=\"dataframe\">\n",
       "  <thead>\n",
       "    <tr style=\"text-align: right;\">\n",
       "      <th></th>\n",
       "      <th>url</th>\n",
       "      <th>university</th>\n",
       "      <th>html</th>\n",
       "      <th>target</th>\n",
       "    </tr>\n",
       "  </thead>\n",
       "  <tbody>\n",
       "    <tr>\n",
       "      <th>4047</th>\n",
       "      <td>http:^^www.cs.wisc.edu^~cs354-2^cs354^solution...</td>\n",
       "      <td>wisconsin</td>\n",
       "      <td>NaN</td>\n",
       "      <td>other</td>\n",
       "    </tr>\n",
       "    <tr>\n",
       "      <th>6549</th>\n",
       "      <td>http:^^wizard.cse.nd.edu^class_data^cse542^www...</td>\n",
       "      <td>misc</td>\n",
       "      <td>NaN</td>\n",
       "      <td>other</td>\n",
       "    </tr>\n",
       "    <tr>\n",
       "      <th>6575</th>\n",
       "      <td>http:^^www.cs.clemson.edu^~peck^vitae^peck</td>\n",
       "      <td>misc</td>\n",
       "      <td>NaN</td>\n",
       "      <td>other</td>\n",
       "    </tr>\n",
       "    <tr>\n",
       "      <th>6576</th>\n",
       "      <td>http:^^simulation.modsim.nyu.edu^cvcourse^logi...</td>\n",
       "      <td>misc</td>\n",
       "      <td>NaN</td>\n",
       "      <td>other</td>\n",
       "    </tr>\n",
       "    <tr>\n",
       "      <th>6588</th>\n",
       "      <td>http:^^www.cs.clemson.edu^~madhu^usa.txt</td>\n",
       "      <td>misc</td>\n",
       "      <td>NaN</td>\n",
       "      <td>other</td>\n",
       "    </tr>\n",
       "    <tr>\n",
       "      <th>6624</th>\n",
       "      <td>http:^^www.cis.ksu.edu^~singh^CIS725^olec10</td>\n",
       "      <td>misc</td>\n",
       "      <td>NaN</td>\n",
       "      <td>other</td>\n",
       "    </tr>\n",
       "    <tr>\n",
       "      <th>6629</th>\n",
       "      <td>http:^^www.cis.upenn.edu^~lee^cse480^480^Lec2.rpc</td>\n",
       "      <td>misc</td>\n",
       "      <td>NaN</td>\n",
       "      <td>other</td>\n",
       "    </tr>\n",
       "    <tr>\n",
       "      <th>6637</th>\n",
       "      <td>http:^^www.cis.upenn.edu^~lee^cse480^480^lec03...</td>\n",
       "      <td>misc</td>\n",
       "      <td>NaN</td>\n",
       "      <td>other</td>\n",
       "    </tr>\n",
       "    <tr>\n",
       "      <th>6656</th>\n",
       "      <td>http:^^www.columbia.edu^~cs1003^handouts^rfc1135</td>\n",
       "      <td>misc</td>\n",
       "      <td>NaN</td>\n",
       "      <td>other</td>\n",
       "    </tr>\n",
       "    <tr>\n",
       "      <th>6730</th>\n",
       "      <td>http:^^cs.nyu.edu^cs^dept_info^course_home_pag...</td>\n",
       "      <td>misc</td>\n",
       "      <td>NaN</td>\n",
       "      <td>other</td>\n",
       "    </tr>\n",
       "    <tr>\n",
       "      <th>6865</th>\n",
       "      <td>http:^^www.cs.bu.edu^students^grads^carter^cou...</td>\n",
       "      <td>misc</td>\n",
       "      <td>NaN</td>\n",
       "      <td>other</td>\n",
       "    </tr>\n",
       "    <tr>\n",
       "      <th>6868</th>\n",
       "      <td>http:^^cs.nyu.edu^cs^faculty^artg^manpage.txt</td>\n",
       "      <td>misc</td>\n",
       "      <td>NaN</td>\n",
       "      <td>other</td>\n",
       "    </tr>\n",
       "    <tr>\n",
       "      <th>6981</th>\n",
       "      <td>http:^^www.cs.engr.uky.edu^~oldham^release.3.r...</td>\n",
       "      <td>misc</td>\n",
       "      <td>NaN</td>\n",
       "      <td>other</td>\n",
       "    </tr>\n",
       "    <tr>\n",
       "      <th>6986</th>\n",
       "      <td>http:^^www-leland.stanford.edu^class^cs328a^bo...</td>\n",
       "      <td>misc</td>\n",
       "      <td>NaN</td>\n",
       "      <td>other</td>\n",
       "    </tr>\n",
       "    <tr>\n",
       "      <th>7090</th>\n",
       "      <td>http:^^simulation.modsim.nyu.edu^cvcourse^emai...</td>\n",
       "      <td>misc</td>\n",
       "      <td>NaN</td>\n",
       "      <td>other</td>\n",
       "    </tr>\n",
       "    <tr>\n",
       "      <th>7187</th>\n",
       "      <td>http:^^www.cs.byu.edu^courses^cs345.ivie^sampl...</td>\n",
       "      <td>misc</td>\n",
       "      <td>NaN</td>\n",
       "      <td>other</td>\n",
       "    </tr>\n",
       "    <tr>\n",
       "      <th>7210</th>\n",
       "      <td>http:^^www.cs.bu.edu^students^grads^dcoles^gra...</td>\n",
       "      <td>misc</td>\n",
       "      <td>NaN</td>\n",
       "      <td>other</td>\n",
       "    </tr>\n",
       "  </tbody>\n",
       "</table>\n",
       "</div>"
      ],
      "text/plain": [
       "                                                    url university html target\n",
       "4047  http:^^www.cs.wisc.edu^~cs354-2^cs354^solution...  wisconsin  NaN  other\n",
       "6549  http:^^wizard.cse.nd.edu^class_data^cse542^www...       misc  NaN  other\n",
       "6575         http:^^www.cs.clemson.edu^~peck^vitae^peck       misc  NaN  other\n",
       "6576  http:^^simulation.modsim.nyu.edu^cvcourse^logi...       misc  NaN  other\n",
       "6588           http:^^www.cs.clemson.edu^~madhu^usa.txt       misc  NaN  other\n",
       "6624        http:^^www.cis.ksu.edu^~singh^CIS725^olec10       misc  NaN  other\n",
       "6629  http:^^www.cis.upenn.edu^~lee^cse480^480^Lec2.rpc       misc  NaN  other\n",
       "6637  http:^^www.cis.upenn.edu^~lee^cse480^480^lec03...       misc  NaN  other\n",
       "6656   http:^^www.columbia.edu^~cs1003^handouts^rfc1135       misc  NaN  other\n",
       "6730  http:^^cs.nyu.edu^cs^dept_info^course_home_pag...       misc  NaN  other\n",
       "6865  http:^^www.cs.bu.edu^students^grads^carter^cou...       misc  NaN  other\n",
       "6868      http:^^cs.nyu.edu^cs^faculty^artg^manpage.txt       misc  NaN  other\n",
       "6981  http:^^www.cs.engr.uky.edu^~oldham^release.3.r...       misc  NaN  other\n",
       "6986  http:^^www-leland.stanford.edu^class^cs328a^bo...       misc  NaN  other\n",
       "7090  http:^^simulation.modsim.nyu.edu^cvcourse^emai...       misc  NaN  other\n",
       "7187  http:^^www.cs.byu.edu^courses^cs345.ivie^sampl...       misc  NaN  other\n",
       "7210  http:^^www.cs.bu.edu^students^grads^dcoles^gra...       misc  NaN  other"
      ]
     },
     "execution_count": 10,
     "metadata": {},
     "output_type": "execute_result"
    }
   ],
   "source": [
    "# Who is 'Nan'?\n",
    "\n",
    "one[one['html'].isnull()]"
   ]
  },
  {
   "cell_type": "code",
   "execution_count": 11,
   "metadata": {},
   "outputs": [
    {
     "data": {
      "text/html": [
       "<div>\n",
       "<style>\n",
       "    .dataframe thead tr:only-child th {\n",
       "        text-align: right;\n",
       "    }\n",
       "\n",
       "    .dataframe thead th {\n",
       "        text-align: left;\n",
       "    }\n",
       "\n",
       "    .dataframe tbody tr th {\n",
       "        vertical-align: top;\n",
       "    }\n",
       "</style>\n",
       "<table border=\"1\" class=\"dataframe\">\n",
       "  <thead>\n",
       "    <tr style=\"text-align: right;\">\n",
       "      <th></th>\n",
       "      <th>url</th>\n",
       "      <th>university</th>\n",
       "      <th>html</th>\n",
       "      <th>target</th>\n",
       "    </tr>\n",
       "  </thead>\n",
       "  <tbody>\n",
       "    <tr>\n",
       "      <th>count</th>\n",
       "      <td>8265</td>\n",
       "      <td>8265</td>\n",
       "      <td>8265</td>\n",
       "      <td>8265</td>\n",
       "    </tr>\n",
       "    <tr>\n",
       "      <th>unique</th>\n",
       "      <td>8258</td>\n",
       "      <td>5</td>\n",
       "      <td>8240</td>\n",
       "      <td>7</td>\n",
       "    </tr>\n",
       "    <tr>\n",
       "      <th>top</th>\n",
       "      <td>http:^^www.cs.columbia.edu^~tboult^</td>\n",
       "      <td>misc</td>\n",
       "      <td>&lt;html&gt; &lt;HEAD&gt; &lt;TITLE&gt;Department of Computer Sc...</td>\n",
       "      <td>other</td>\n",
       "    </tr>\n",
       "    <tr>\n",
       "      <th>freq</th>\n",
       "      <td>2</td>\n",
       "      <td>4104</td>\n",
       "      <td>2</td>\n",
       "      <td>3747</td>\n",
       "    </tr>\n",
       "  </tbody>\n",
       "</table>\n",
       "</div>"
      ],
      "text/plain": [
       "                                        url university  \\\n",
       "count                                  8265       8265   \n",
       "unique                                 8258          5   \n",
       "top     http:^^www.cs.columbia.edu^~tboult^       misc   \n",
       "freq                                      2       4104   \n",
       "\n",
       "                                                     html target  \n",
       "count                                                8265   8265  \n",
       "unique                                               8240      7  \n",
       "top     <html> <HEAD> <TITLE>Department of Computer Sc...  other  \n",
       "freq                                                    2   3747  "
      ]
     },
     "execution_count": 11,
     "metadata": {},
     "output_type": "execute_result"
    }
   ],
   "source": [
    "# Deleting rows with null values. There are 17 rows.\n",
    "\n",
    "one = one.dropna(axis=0, how='any')\n",
    "#one[one['html'].isnull()]\n",
    "one.describe()"
   ]
  },
  {
   "cell_type": "markdown",
   "metadata": {},
   "source": [
    "## 2.  Data Visualization"
   ]
  },
  {
   "cell_type": "markdown",
   "metadata": {},
   "source": [
    "#### Number of data by universities"
   ]
  },
  {
   "cell_type": "code",
   "execution_count": 10,
   "metadata": {},
   "outputs": [
    {
     "data": {
      "image/png": "[encoded data removed]",
      "text/plain": [
       "<matplotlib.figure.Figure at 0x7f6083c73c50>"
      ]
     },
     "metadata": {},
     "output_type": "display_data"
    }
   ],
   "source": [
    "one.groupby(['university']).count().plot.bar();"
   ]
  },
  {
   "cell_type": "markdown",
   "metadata": {},
   "source": [
    "#### Number of data by target class"
   ]
  },
  {
   "cell_type": "code",
   "execution_count": 11,
   "metadata": {},
   "outputs": [
    {
     "data": {
      "image/png": "[encoded data removed]",
      "text/plain": [
       "<matplotlib.figure.Figure at 0x7f6083b64750>"
      ]
     },
     "metadata": {},
     "output_type": "display_data"
    }
   ],
   "source": [
    "one.groupby(['target']).count().plot.bar();"
   ]
  },
  {
   "cell_type": "code",
   "execution_count": 12,
   "metadata": {},
   "outputs": [
    {
     "data": {
      "text/plain": [
       "university  target    \n",
       "cornell     course          44\n",
       "            department       1\n",
       "            faculty         34\n",
       "            other          619\n",
       "            project         20\n",
       "            staff           21\n",
       "            student        128\n",
       "misc        course         686\n",
       "            department     178\n",
       "            faculty        971\n",
       "            other          677\n",
       "            project        418\n",
       "            staff           91\n",
       "            student       1083\n",
       "texas       course          38\n",
       "            department       1\n",
       "            faculty         46\n",
       "            other          571\n",
       "            project         20\n",
       "            staff            3\n",
       "            student        148\n",
       "washington  course          77\n",
       "            department       1\n",
       "            faculty         31\n",
       "            other          939\n",
       "            project         21\n",
       "            staff           10\n",
       "            student        126\n",
       "wisconsin   course          85\n",
       "            department       1\n",
       "            faculty         42\n",
       "            other          941\n",
       "            project         25\n",
       "            staff           12\n",
       "            student        156\n",
       "Name: url, dtype: int64"
      ]
     },
     "execution_count": 12,
     "metadata": {},
     "output_type": "execute_result"
    }
   ],
   "source": [
    "one.groupby(['university','target'])['url'].count()"
   ]
  },
  {
   "cell_type": "markdown",
   "metadata": {},
   "source": [
    "#### Data by university AND target class"
   ]
  },
  {
   "cell_type": "code",
   "execution_count": 13,
   "metadata": {
    "scrolled": false
   },
   "outputs": [
    {
     "data": {
      "image/png": "[encoded data removed]",
      "text/plain": [
       "<matplotlib.figure.Figure at 0x7f6083b7fb50>"
      ]
     },
     "metadata": {},
     "output_type": "display_data"
    }
   ],
   "source": [
    "temp = pd.crosstab(one['university'], one['target'])\n",
    "temp.plot(kind='bar', stacked=False, grid=True, figsize=(15,7));"
   ]
  },
  {
   "cell_type": "markdown",
   "metadata": {},
   "source": [
    "## 3. Machine Learning Models"
   ]
  },
  {
   "cell_type": "markdown",
   "metadata": {},
   "source": [
    "#### Remembering the data"
   ]
  },
  {
   "cell_type": "code",
   "execution_count": 14,
   "metadata": {},
   "outputs": [
    {
     "data": {
      "text/html": [
       "<div>\n",
       "<style>\n",
       "    .dataframe thead tr:only-child th {\n",
       "        text-align: right;\n",
       "    }\n",
       "\n",
       "    .dataframe thead th {\n",
       "        text-align: left;\n",
       "    }\n",
       "\n",
       "    .dataframe tbody tr th {\n",
       "        vertical-align: top;\n",
       "    }\n",
       "</style>\n",
       "<table border=\"1\" class=\"dataframe\">\n",
       "  <thead>\n",
       "    <tr style=\"text-align: right;\">\n",
       "      <th></th>\n",
       "      <th>url</th>\n",
       "      <th>university</th>\n",
       "      <th>html</th>\n",
       "      <th>target</th>\n",
       "    </tr>\n",
       "  </thead>\n",
       "  <tbody>\n",
       "    <tr>\n",
       "      <th>0</th>\n",
       "      <td>http:^^www.cs.utexas.edu^users^less^</td>\n",
       "      <td>texas</td>\n",
       "      <td>&lt;!DOCTYPE HTML PUBLIC \"-//W3C//DTD HTML 3.2//E...</td>\n",
       "      <td>project</td>\n",
       "    </tr>\n",
       "    <tr>\n",
       "      <th>1</th>\n",
       "      <td>http:^^www.cs.utexas.edu^users^vlr^sac.html</td>\n",
       "      <td>texas</td>\n",
       "      <td>&lt;title&gt;UT Algorithms and Computational Theory ...</td>\n",
       "      <td>project</td>\n",
       "    </tr>\n",
       "    <tr>\n",
       "      <th>2</th>\n",
       "      <td>http:^^www.cs.utexas.edu^users^lam^NRL^</td>\n",
       "      <td>texas</td>\n",
       "      <td>&lt;title&gt; Networking Research Laboratory, UT-Aus...</td>\n",
       "      <td>project</td>\n",
       "    </tr>\n",
       "    <tr>\n",
       "      <th>3</th>\n",
       "      <td>http:^^www.cs.utexas.edu^users^cad^cad.html</td>\n",
       "      <td>texas</td>\n",
       "      <td>&lt;title&gt; UTCS CAD Home page &lt;/title&gt;  &lt;h1&gt; CAD ...</td>\n",
       "      <td>project</td>\n",
       "    </tr>\n",
       "    <tr>\n",
       "      <th>4</th>\n",
       "      <td>http:^^www.cs.utexas.edu^users^ai-lab^</td>\n",
       "      <td>texas</td>\n",
       "      <td>&lt;title&gt;UT Artificial Intelligence Laboratory&lt;/...</td>\n",
       "      <td>project</td>\n",
       "    </tr>\n",
       "  </tbody>\n",
       "</table>\n",
       "</div>"
      ],
      "text/plain": [
       "                                           url university  \\\n",
       "0         http:^^www.cs.utexas.edu^users^less^      texas   \n",
       "1  http:^^www.cs.utexas.edu^users^vlr^sac.html      texas   \n",
       "2      http:^^www.cs.utexas.edu^users^lam^NRL^      texas   \n",
       "3  http:^^www.cs.utexas.edu^users^cad^cad.html      texas   \n",
       "4       http:^^www.cs.utexas.edu^users^ai-lab^      texas   \n",
       "\n",
       "                                                html   target  \n",
       "0  <!DOCTYPE HTML PUBLIC \"-//W3C//DTD HTML 3.2//E...  project  \n",
       "1  <title>UT Algorithms and Computational Theory ...  project  \n",
       "2  <title> Networking Research Laboratory, UT-Aus...  project  \n",
       "3  <title> UTCS CAD Home page </title>  <h1> CAD ...  project  \n",
       "4  <title>UT Artificial Intelligence Laboratory</...  project  "
      ]
     },
     "execution_count": 14,
     "metadata": {},
     "output_type": "execute_result"
    }
   ],
   "source": [
    "one.head()"
   ]
  },
  {
   "cell_type": "code",
   "execution_count": 15,
   "metadata": {},
   "outputs": [
    {
     "data": {
      "text/html": [
       "<div>\n",
       "<style>\n",
       "    .dataframe thead tr:only-child th {\n",
       "        text-align: right;\n",
       "    }\n",
       "\n",
       "    .dataframe thead th {\n",
       "        text-align: left;\n",
       "    }\n",
       "\n",
       "    .dataframe tbody tr th {\n",
       "        vertical-align: top;\n",
       "    }\n",
       "</style>\n",
       "<table border=\"1\" class=\"dataframe\">\n",
       "  <thead>\n",
       "    <tr style=\"text-align: right;\">\n",
       "      <th></th>\n",
       "      <th>url</th>\n",
       "      <th>university</th>\n",
       "      <th>html</th>\n",
       "    </tr>\n",
       "    <tr>\n",
       "      <th>target</th>\n",
       "      <th></th>\n",
       "      <th></th>\n",
       "      <th></th>\n",
       "    </tr>\n",
       "  </thead>\n",
       "  <tbody>\n",
       "    <tr>\n",
       "      <th>course</th>\n",
       "      <td>930</td>\n",
       "      <td>930</td>\n",
       "      <td>930</td>\n",
       "    </tr>\n",
       "    <tr>\n",
       "      <th>department</th>\n",
       "      <td>182</td>\n",
       "      <td>182</td>\n",
       "      <td>182</td>\n",
       "    </tr>\n",
       "    <tr>\n",
       "      <th>faculty</th>\n",
       "      <td>1124</td>\n",
       "      <td>1124</td>\n",
       "      <td>1124</td>\n",
       "    </tr>\n",
       "    <tr>\n",
       "      <th>other</th>\n",
       "      <td>3747</td>\n",
       "      <td>3747</td>\n",
       "      <td>3747</td>\n",
       "    </tr>\n",
       "    <tr>\n",
       "      <th>project</th>\n",
       "      <td>504</td>\n",
       "      <td>504</td>\n",
       "      <td>504</td>\n",
       "    </tr>\n",
       "    <tr>\n",
       "      <th>staff</th>\n",
       "      <td>137</td>\n",
       "      <td>137</td>\n",
       "      <td>137</td>\n",
       "    </tr>\n",
       "    <tr>\n",
       "      <th>student</th>\n",
       "      <td>1641</td>\n",
       "      <td>1641</td>\n",
       "      <td>1641</td>\n",
       "    </tr>\n",
       "  </tbody>\n",
       "</table>\n",
       "</div>"
      ],
      "text/plain": [
       "             url  university  html\n",
       "target                            \n",
       "course       930         930   930\n",
       "department   182         182   182\n",
       "faculty     1124        1124  1124\n",
       "other       3747        3747  3747\n",
       "project      504         504   504\n",
       "staff        137         137   137\n",
       "student     1641        1641  1641"
      ]
     },
     "execution_count": 15,
     "metadata": {},
     "output_type": "execute_result"
    }
   ],
   "source": [
    "one.groupby(['target']).count()"
   ]
  },
  {
   "cell_type": "markdown",
   "metadata": {},
   "source": [
    "#### Create a new column with numeric values to the target"
   ]
  },
  {
   "cell_type": "code",
   "execution_count": 16,
   "metadata": {
    "collapsed": true
   },
   "outputs": [],
   "source": [
    "one['target_num'] = one.target.map({'course':0, 'department':1, 'faculty':2, 'other':3, 'project':4, 'staff':5, 'student':6})\n"
   ]
  },
  {
   "cell_type": "markdown",
   "metadata": {},
   "source": [
    "#### HTML data"
   ]
  },
  {
   "cell_type": "code",
   "execution_count": 17,
   "metadata": {},
   "outputs": [
    {
     "name": "stdout",
     "output_type": "stream",
     "text": [
      "(8265,)\n",
      "(8265,)\n"
     ]
    }
   ],
   "source": [
    "# Define X and y (from the data) for use with COUNTVECTORIZER\n",
    "\n",
    "X = one.html\n",
    "y = one.target_num\n",
    "print(X.shape)\n",
    "print(y.shape)"
   ]
  },
  {
   "cell_type": "markdown",
   "metadata": {},
   "source": [
    "#### Split into training and testing sets"
   ]
  },
  {
   "cell_type": "code",
   "execution_count": 111,
   "metadata": {
    "scrolled": true
   },
   "outputs": [
    {
     "name": "stdout",
     "output_type": "stream",
     "text": [
      "(6198,)\n",
      "(2067,)\n",
      "(6198,)\n",
      "(2067,)\n"
     ]
    }
   ],
   "source": [
    "# split X and y into training and testing sets\n",
    "\n",
    "from sklearn.model_selection import train_test_split\n",
    "\n",
    "\n",
    "X_train, X_test, y_train, y_test = train_test_split(X, y, random_state=1)\n",
    "print(X_train.shape)\n",
    "print(X_test.shape)\n",
    "print(y_train.shape)\n",
    "print(y_test.shape)"
   ]
  },
  {
   "cell_type": "markdown",
   "metadata": {},
   "source": [
    "#### Vectorizing"
   ]
  },
  {
   "cell_type": "code",
   "execution_count": 112,
   "metadata": {},
   "outputs": [
    {
     "data": {
      "text/plain": [
       "<6198x61560 sparse matrix of type '<type 'numpy.int64'>'\n",
       "\twith 1933397 stored elements in Compressed Sparse Row format>"
      ]
     },
     "execution_count": 112,
     "metadata": {},
     "output_type": "execute_result"
    }
   ],
   "source": [
    "from sklearn.feature_extraction.text import CountVectorizer\n",
    "from sklearn.feature_extraction.text import TfidfVectorizer\n",
    "\n",
    "# instantiate the vectorizer\n",
    "\n",
    "vect = CountVectorizer(encoding='latin-1', stop_words='english', ngram_range=(1, 2), min_df=5)\n",
    "#vect = TfidfVectorizer(encoding='latin-1', stop_words='english', ngram_range=(1, 2), min_df=5)\n",
    "# Esse tfIdf deu ruim\n",
    "\n",
    "                       \n",
    "# combine fit and transform into a single step\n",
    "\n",
    "X_train_dtm = vect.fit_transform(X_train)\n",
    "X_train_dtm"
   ]
  },
  {
   "cell_type": "code",
   "execution_count": 113,
   "metadata": {},
   "outputs": [
    {
     "data": {
      "text/plain": [
       "<2067x61560 sparse matrix of type '<type 'numpy.int64'>'\n",
       "\twith 608592 stored elements in Compressed Sparse Row format>"
      ]
     },
     "execution_count": 113,
     "metadata": {},
     "output_type": "execute_result"
    }
   ],
   "source": [
    "# transform testing data (using fitted vocabulary) into a document-term matrix\n",
    "\n",
    "X_test_dtm = vect.transform(X_test)\n",
    "X_test_dtm"
   ]
  },
  {
   "cell_type": "markdown",
   "metadata": {},
   "source": [
    "### Comparing models"
   ]
  },
  {
   "cell_type": "markdown",
   "metadata": {},
   "source": [
    "#### Naive Bayes"
   ]
  },
  {
   "cell_type": "code",
   "execution_count": 114,
   "metadata": {
    "collapsed": true
   },
   "outputs": [],
   "source": [
    "# import and instantiate a Multinomial Naive Bayes model\n",
    "\n",
    "from sklearn.naive_bayes import MultinomialNB\n",
    "nb = MultinomialNB()"
   ]
  },
  {
   "cell_type": "code",
   "execution_count": 115,
   "metadata": {},
   "outputs": [
    {
     "name": "stdout",
     "output_type": "stream",
     "text": [
      "CPU times: user 64 ms, sys: 0 ns, total: 64 ms\n",
      "Wall time: 63.9 ms\n"
     ]
    },
    {
     "data": {
      "text/plain": [
       "MultinomialNB(alpha=1.0, class_prior=None, fit_prior=True)"
      ]
     },
     "execution_count": 115,
     "metadata": {},
     "output_type": "execute_result"
    }
   ],
   "source": [
    "# train the model using X_train_dtm (timing it with an IPython \"magic command\")\n",
    "\n",
    "%time nb.fit(X_train_dtm, y_train)"
   ]
  },
  {
   "cell_type": "code",
   "execution_count": 116,
   "metadata": {},
   "outputs": [
    {
     "data": {
      "text/plain": [
       "0.6032897919690372"
      ]
     },
     "execution_count": 116,
     "metadata": {},
     "output_type": "execute_result"
    }
   ],
   "source": [
    "# make class predictions for X_test_dtm\n",
    "\n",
    "y_pred_class = nb.predict(X_test_dtm)\n",
    "\n",
    "\n",
    "# calculate accuracy of class predictions\n",
    "\n",
    "from sklearn import metrics\n",
    "metrics.accuracy_score(y_test, y_pred_class)"
   ]
  },
  {
   "cell_type": "markdown",
   "metadata": {},
   "source": [
    "#### Logistic Regression"
   ]
  },
  {
   "cell_type": "code",
   "execution_count": 117,
   "metadata": {},
   "outputs": [
    {
     "name": "stdout",
     "output_type": "stream",
     "text": [
      "CPU times: user 1min 51s, sys: 3min 27s, total: 5min 19s\n",
      "Wall time: 1min 26s\n"
     ]
    },
    {
     "data": {
      "text/plain": [
       "LogisticRegression(C=1.0, class_weight='balanced', dual=False,\n",
       "          fit_intercept=True, intercept_scaling=1, max_iter=100,\n",
       "          multi_class='ovr', n_jobs=1, penalty='l2', random_state=None,\n",
       "          solver='liblinear', tol=0.0001, verbose=0, warm_start=False)"
      ]
     },
     "execution_count": 117,
     "metadata": {},
     "output_type": "execute_result"
    }
   ],
   "source": [
    "# import and instantiate a logistic regression model\n",
    "\n",
    "from sklearn.linear_model import LogisticRegression\n",
    "logreg = LogisticRegression(class_weight='balanced')\n",
    "\n",
    "# train the model using X_train_dtm\n",
    "\n",
    "%time logreg.fit(X_train_dtm, y_train)"
   ]
  },
  {
   "cell_type": "code",
   "execution_count": 118,
   "metadata": {},
   "outputs": [
    {
     "data": {
      "text/plain": [
       "0.83502660861151423"
      ]
     },
     "execution_count": 118,
     "metadata": {},
     "output_type": "execute_result"
    }
   ],
   "source": [
    "# make class predictions for X_test_dtm\n",
    "\n",
    "y_pred_class = logreg.predict(X_test_dtm)\n",
    "\n",
    "\n",
    "# calculate accuracy\n",
    "\n",
    "metrics.accuracy_score(y_test, y_pred_class)"
   ]
  },
  {
   "cell_type": "code",
   "execution_count": 119,
   "metadata": {
    "scrolled": false
   },
   "outputs": [
    {
     "data": {
      "text/plain": [
       "array([[178,   0,   4,  32,   0,   0,   3],\n",
       "       [  1,  26,   6,   6,   2,   0,   2],\n",
       "       [  4,   1, 223,  24,   5,   0,  17],\n",
       "       [ 30,  10,  15, 854,  25,   4,  39],\n",
       "       [  0,   0,   8,  19,  81,   0,   5],\n",
       "       [  0,   0,   6,   2,   0,   7,  11],\n",
       "       [  1,   0,   4,  50,   3,   2, 357]])"
      ]
     },
     "execution_count": 119,
     "metadata": {},
     "output_type": "execute_result"
    }
   ],
   "source": [
    "# print the confusion matrix\n",
    "metrics.confusion_matrix(y_test, y_pred_class)"
   ]
  },
  {
   "cell_type": "code",
   "execution_count": 120,
   "metadata": {},
   "outputs": [
    {
     "data": {
      "text/html": [
       "<div>\n",
       "<style>\n",
       "    .dataframe thead tr:only-child th {\n",
       "        text-align: right;\n",
       "    }\n",
       "\n",
       "    .dataframe thead th {\n",
       "        text-align: left;\n",
       "    }\n",
       "\n",
       "    .dataframe tbody tr th {\n",
       "        vertical-align: top;\n",
       "    }\n",
       "</style>\n",
       "<table border=\"1\" class=\"dataframe\">\n",
       "  <thead>\n",
       "    <tr style=\"text-align: right;\">\n",
       "      <th></th>\n",
       "      <th></th>\n",
       "      <th>url</th>\n",
       "      <th>university</th>\n",
       "      <th>html</th>\n",
       "    </tr>\n",
       "    <tr>\n",
       "      <th>target_num</th>\n",
       "      <th>target</th>\n",
       "      <th></th>\n",
       "      <th></th>\n",
       "      <th></th>\n",
       "    </tr>\n",
       "  </thead>\n",
       "  <tbody>\n",
       "    <tr>\n",
       "      <th>0</th>\n",
       "      <th>course</th>\n",
       "      <td>930</td>\n",
       "      <td>930</td>\n",
       "      <td>930</td>\n",
       "    </tr>\n",
       "    <tr>\n",
       "      <th>1</th>\n",
       "      <th>department</th>\n",
       "      <td>182</td>\n",
       "      <td>182</td>\n",
       "      <td>182</td>\n",
       "    </tr>\n",
       "    <tr>\n",
       "      <th>2</th>\n",
       "      <th>faculty</th>\n",
       "      <td>1124</td>\n",
       "      <td>1124</td>\n",
       "      <td>1124</td>\n",
       "    </tr>\n",
       "    <tr>\n",
       "      <th>3</th>\n",
       "      <th>other</th>\n",
       "      <td>3747</td>\n",
       "      <td>3747</td>\n",
       "      <td>3747</td>\n",
       "    </tr>\n",
       "    <tr>\n",
       "      <th>4</th>\n",
       "      <th>project</th>\n",
       "      <td>504</td>\n",
       "      <td>504</td>\n",
       "      <td>504</td>\n",
       "    </tr>\n",
       "    <tr>\n",
       "      <th>5</th>\n",
       "      <th>staff</th>\n",
       "      <td>137</td>\n",
       "      <td>137</td>\n",
       "      <td>137</td>\n",
       "    </tr>\n",
       "    <tr>\n",
       "      <th>6</th>\n",
       "      <th>student</th>\n",
       "      <td>1641</td>\n",
       "      <td>1641</td>\n",
       "      <td>1641</td>\n",
       "    </tr>\n",
       "  </tbody>\n",
       "</table>\n",
       "</div>"
      ],
      "text/plain": [
       "                        url  university  html\n",
       "target_num target                            \n",
       "0          course       930         930   930\n",
       "1          department   182         182   182\n",
       "2          faculty     1124        1124  1124\n",
       "3          other       3747        3747  3747\n",
       "4          project      504         504   504\n",
       "5          staff        137         137   137\n",
       "6          student     1641        1641  1641"
      ]
     },
     "execution_count": 120,
     "metadata": {},
     "output_type": "execute_result"
    }
   ],
   "source": [
    "one.groupby(['target_num', 'target']).count()"
   ]
  },
  {
   "cell_type": "markdown",
   "metadata": {},
   "source": [
    "#### Random Forest"
   ]
  },
  {
   "cell_type": "code",
   "execution_count": 121,
   "metadata": {
    "scrolled": true
   },
   "outputs": [
    {
     "name": "stdout",
     "output_type": "stream",
     "text": [
      "CPU times: user 1min 20s, sys: 16 ms, total: 1min 20s\n",
      "Wall time: 1min 20s\n"
     ]
    },
    {
     "data": {
      "text/plain": [
       "RandomForestClassifier(bootstrap=True, class_weight=None, criterion='gini',\n",
       "            max_depth=None, max_features='auto', max_leaf_nodes=None,\n",
       "            min_impurity_split=1e-07, min_samples_leaf=1,\n",
       "            min_samples_split=2, min_weight_fraction_leaf=0.0,\n",
       "            n_estimators=300, n_jobs=1, oob_score=False, random_state=None,\n",
       "            verbose=0, warm_start=False)"
      ]
     },
     "execution_count": 121,
     "metadata": {},
     "output_type": "execute_result"
    }
   ],
   "source": [
    "from sklearn.ensemble import RandomForestClassifier\n",
    "forest = RandomForestClassifier(n_estimators=300)\n",
    "\n",
    "%time forest.fit(X_train_dtm, y_train)"
   ]
  },
  {
   "cell_type": "code",
   "execution_count": 122,
   "metadata": {},
   "outputs": [
    {
     "data": {
      "text/plain": [
       "0.81083696178035802"
      ]
     },
     "execution_count": 122,
     "metadata": {},
     "output_type": "execute_result"
    }
   ],
   "source": [
    "\n",
    "y_pred_class = forest.predict(X_test_dtm)\n",
    "\n",
    "metrics.accuracy_score(y_test, y_pred_class)"
   ]
  },
  {
   "cell_type": "markdown",
   "metadata": {},
   "source": [
    "#### Gradient Boosting - NOT RUN!"
   ]
  },
  {
   "cell_type": "code",
   "execution_count": 32,
   "metadata": {},
   "outputs": [
    {
     "name": "stdout",
     "output_type": "stream",
     "text": [
      "CPU times: user 59.1 s, sys: 0 ns, total: 59.1 s\n",
      "Wall time: 59.1 s\n"
     ]
    },
    {
     "data": {
      "text/plain": [
       "GradientBoostingClassifier(criterion='friedman_mse', init=None,\n",
       "              learning_rate=1.0, loss='deviance', max_depth=1,\n",
       "              max_features=None, max_leaf_nodes=None,\n",
       "              min_impurity_split=1e-07, min_samples_leaf=1,\n",
       "              min_samples_split=2, min_weight_fraction_leaf=0.0,\n",
       "              n_estimators=100, presort='auto', random_state=0,\n",
       "              subsample=1.0, verbose=0, warm_start=False)"
      ]
     },
     "execution_count": 32,
     "metadata": {},
     "output_type": "execute_result"
    }
   ],
   "source": [
    "from sklearn.ensemble import GradientBoostingClassifier\n",
    "clf = GradientBoostingClassifier(n_estimators=100,learning_rate=1.0,max_depth=1,random_state=0)\n",
    "\n",
    "%time clf.fit(X_train_dtm, y_train)"
   ]
  },
  {
   "cell_type": "code",
   "execution_count": 33,
   "metadata": {},
   "outputs": [
    {
     "name": "stdout",
     "output_type": "stream",
     "text": [
      "CPU times: user 88 ms, sys: 472 ms, total: 560 ms\n",
      "Wall time: 23.2 s\n"
     ]
    }
   ],
   "source": [
    "%time X_test_array = X_test_dtm.toarray()"
   ]
  },
  {
   "cell_type": "code",
   "execution_count": 34,
   "metadata": {},
   "outputs": [
    {
     "data": {
      "text/plain": [
       "0.78644888082274655"
      ]
     },
     "execution_count": 34,
     "metadata": {},
     "output_type": "execute_result"
    }
   ],
   "source": [
    "# NAO RODAR! LERDO\n",
    "y_pred_class = clf.predict(X_test_array)\n",
    "\n",
    "metrics.accuracy_score(y_test, y_pred_class)"
   ]
  },
  {
   "cell_type": "markdown",
   "metadata": {},
   "source": [
    "## 4. Examining tokenization"
   ]
  },
  {
   "cell_type": "code",
   "execution_count": 123,
   "metadata": {},
   "outputs": [
    {
     "data": {
      "text/plain": [
       "61560"
      ]
     },
     "execution_count": 123,
     "metadata": {},
     "output_type": "execute_result"
    }
   ],
   "source": [
    "# store the vocabulary of X_train\n",
    "\n",
    "X_train_tokens = vect.get_feature_names()\n",
    "len(X_train_tokens)"
   ]
  },
  {
   "cell_type": "code",
   "execution_count": 124,
   "metadata": {},
   "outputs": [
    {
     "name": "stdout",
     "output_type": "stream",
     "text": [
      "[u'00', u'00 00', u'00 00pm', u'00 10', u'00 11', u'00 12', u'00 15', u'00 1996', u'00 20', u'00 30', u'00 45', u'00 50', u'00 appointment', u'00 br', u'00 dd', u'00 em', u'00 files', u'00 gmt', u'00 li', u'00 noon', u'00 pm', u'00 pre', u'00 room', u'00 states', u'00 tay', u'00 td', u'00 th', u'00 thursday', u'00 tuesday', u'00 ul', u'00 wednesday', u'000', u'000 000', u'000 lines', u'000 people', u'0000', u'0000 html', u'00000', u'00000 table', u'000000', u'000000 alink', u'000000 background', u'000000 bgcolor', u'000000 body', u'000000 center', u'000000 font', u'000000 h1', u'000000 h2', u'000000 head', u'000000 link']\n"
     ]
    }
   ],
   "source": [
    "# examine the first 50 tokens\n",
    "print(X_train_tokens[0:50])"
   ]
  },
  {
   "cell_type": "code",
   "execution_count": 125,
   "metadata": {},
   "outputs": [
    {
     "name": "stdout",
     "output_type": "stream",
     "text": [
      "[u'zhen', u'zheng', u'zhichen', u'zhong', u'zhongda', u'zhongshan', u'zhongshan university', u'zhou', u'zhou ul', u'zhu', u'zhu qing', u'zhuqing', u'ziff', u'ziff com', u'ziff davis', u'ziggy', u'zimmermann', u'zines', u'zip', u'zip code', u'zippel', u'zippy', u'zone', u'zone dt', u'zone li', u'zongker', u'zoo', u'zoo cs', u'zoology', u'zoom', u'zoomed', u'zooming', u'zorn', u'zou', u'zpl', u'zpl compiler', u'zpl footer', u'zpl images', u'zpl info', u'zpl language', u'zpl logo', u'zpl papers', u'zpl zpl', u'zsu', u'zuckerman', u'zurich', u'zurich switzerland', u'zvi', u'zwaenepoel', u'zwilling']\n"
     ]
    }
   ],
   "source": [
    "# examine the last 50 tokens\n",
    "print X_train_tokens[-50:]"
   ]
  },
  {
   "cell_type": "code",
   "execution_count": 126,
   "metadata": {},
   "outputs": [
    {
     "data": {
      "text/plain": [
       "array([[ 745.,  145.,   41., ...,    0.,    0.,    0.],\n",
       "       [  12.,    1.,    0., ...,    0.,    0.,    0.],\n",
       "       [ 140.,   32.,    1., ...,    7.,    4.,    2.],\n",
       "       ..., \n",
       "       [  26.,    2.,    0., ...,    1.,    2.,    2.],\n",
       "       [   0.,    0.,    0., ...,    0.,    0.,    0.],\n",
       "       [ 135.,   17.,    2., ...,    6.,    9.,    1.]])"
      ]
     },
     "execution_count": 126,
     "metadata": {},
     "output_type": "execute_result"
    }
   ],
   "source": [
    "# Naive Bayes counts the number of times each token appears in each class\n",
    "nb.feature_count_"
   ]
  },
  {
   "cell_type": "code",
   "execution_count": 127,
   "metadata": {},
   "outputs": [
    {
     "data": {
      "text/plain": [
       "(7, 61560)"
      ]
     },
     "execution_count": 127,
     "metadata": {},
     "output_type": "execute_result"
    }
   ],
   "source": [
    "nb.feature_count_.shape"
   ]
  },
  {
   "cell_type": "code",
   "execution_count": 128,
   "metadata": {},
   "outputs": [
    {
     "data": {
      "text/plain": [
       "array([ 135.,   17.,    2., ...,    6.,    9.,    1.])"
      ]
     },
     "execution_count": 128,
     "metadata": {},
     "output_type": "execute_result"
    }
   ],
   "source": [
    "# number of times each token appears across all course\n",
    "course_token_count = nb.feature_count_[0, :]\n",
    "course_token_count\n",
    "\n",
    "# number of times each token appears across all department\n",
    "department_token_count = nb.feature_count_[1, :]\n",
    "department_token_count\n",
    "\n",
    "# number of times each token appears across all faculty\n",
    "faculty_token_count = nb.feature_count_[2, :]\n",
    "faculty_token_count\n",
    "\n",
    "# number of times each token appears across all other\n",
    "other_token_count = nb.feature_count_[3, :]\n",
    "other_token_count\n",
    "\n",
    "# number of times each token appears across all project\n",
    "project_token_count = nb.feature_count_[4, :]\n",
    "project_token_count\n",
    "\n",
    "# number of times each token appears across all staff\n",
    "staff_token_count = nb.feature_count_[5, :]\n",
    "staff_token_count\n",
    "\n",
    "# number of times each token appears across all student\n",
    "student_token_count = nb.feature_count_[6, :]\n",
    "student_token_count"
   ]
  },
  {
   "cell_type": "code",
   "execution_count": 129,
   "metadata": {},
   "outputs": [
    {
     "data": {
      "text/html": [
       "<div>\n",
       "<style>\n",
       "    .dataframe thead tr:only-child th {\n",
       "        text-align: right;\n",
       "    }\n",
       "\n",
       "    .dataframe thead th {\n",
       "        text-align: left;\n",
       "    }\n",
       "\n",
       "    .dataframe tbody tr th {\n",
       "        vertical-align: top;\n",
       "    }\n",
       "</style>\n",
       "<table border=\"1\" class=\"dataframe\">\n",
       "  <thead>\n",
       "    <tr style=\"text-align: right;\">\n",
       "      <th></th>\n",
       "      <th>course</th>\n",
       "      <th>department</th>\n",
       "      <th>faculty</th>\n",
       "      <th>other</th>\n",
       "      <th>project</th>\n",
       "      <th>staff</th>\n",
       "      <th>student</th>\n",
       "    </tr>\n",
       "    <tr>\n",
       "      <th>token</th>\n",
       "      <th></th>\n",
       "      <th></th>\n",
       "      <th></th>\n",
       "      <th></th>\n",
       "      <th></th>\n",
       "      <th></th>\n",
       "      <th></th>\n",
       "    </tr>\n",
       "  </thead>\n",
       "  <tbody>\n",
       "    <tr>\n",
       "      <th>00</th>\n",
       "      <td>745.0</td>\n",
       "      <td>12.0</td>\n",
       "      <td>140.0</td>\n",
       "      <td>6378.0</td>\n",
       "      <td>26.0</td>\n",
       "      <td>0.0</td>\n",
       "      <td>135.0</td>\n",
       "    </tr>\n",
       "    <tr>\n",
       "      <th>00 00</th>\n",
       "      <td>145.0</td>\n",
       "      <td>1.0</td>\n",
       "      <td>32.0</td>\n",
       "      <td>2002.0</td>\n",
       "      <td>2.0</td>\n",
       "      <td>0.0</td>\n",
       "      <td>17.0</td>\n",
       "    </tr>\n",
       "    <tr>\n",
       "      <th>00 00pm</th>\n",
       "      <td>41.0</td>\n",
       "      <td>0.0</td>\n",
       "      <td>1.0</td>\n",
       "      <td>15.0</td>\n",
       "      <td>0.0</td>\n",
       "      <td>0.0</td>\n",
       "      <td>2.0</td>\n",
       "    </tr>\n",
       "    <tr>\n",
       "      <th>00 10</th>\n",
       "      <td>20.0</td>\n",
       "      <td>0.0</td>\n",
       "      <td>0.0</td>\n",
       "      <td>23.0</td>\n",
       "      <td>0.0</td>\n",
       "      <td>0.0</td>\n",
       "      <td>3.0</td>\n",
       "    </tr>\n",
       "    <tr>\n",
       "      <th>00 11</th>\n",
       "      <td>58.0</td>\n",
       "      <td>0.0</td>\n",
       "      <td>6.0</td>\n",
       "      <td>28.0</td>\n",
       "      <td>0.0</td>\n",
       "      <td>0.0</td>\n",
       "      <td>5.0</td>\n",
       "    </tr>\n",
       "    <tr>\n",
       "      <th>00 12</th>\n",
       "      <td>56.0</td>\n",
       "      <td>0.0</td>\n",
       "      <td>6.0</td>\n",
       "      <td>21.0</td>\n",
       "      <td>0.0</td>\n",
       "      <td>0.0</td>\n",
       "      <td>6.0</td>\n",
       "    </tr>\n",
       "    <tr>\n",
       "      <th>00 15</th>\n",
       "      <td>16.0</td>\n",
       "      <td>0.0</td>\n",
       "      <td>1.0</td>\n",
       "      <td>6.0</td>\n",
       "      <td>0.0</td>\n",
       "      <td>0.0</td>\n",
       "      <td>2.0</td>\n",
       "    </tr>\n",
       "    <tr>\n",
       "      <th>00 1996</th>\n",
       "      <td>7.0</td>\n",
       "      <td>0.0</td>\n",
       "      <td>1.0</td>\n",
       "      <td>2.0</td>\n",
       "      <td>1.0</td>\n",
       "      <td>0.0</td>\n",
       "      <td>1.0</td>\n",
       "    </tr>\n",
       "    <tr>\n",
       "      <th>00 20</th>\n",
       "      <td>4.0</td>\n",
       "      <td>0.0</td>\n",
       "      <td>4.0</td>\n",
       "      <td>18.0</td>\n",
       "      <td>0.0</td>\n",
       "      <td>0.0</td>\n",
       "      <td>0.0</td>\n",
       "    </tr>\n",
       "    <tr>\n",
       "      <th>00 30</th>\n",
       "      <td>29.0</td>\n",
       "      <td>2.0</td>\n",
       "      <td>4.0</td>\n",
       "      <td>44.0</td>\n",
       "      <td>1.0</td>\n",
       "      <td>0.0</td>\n",
       "      <td>4.0</td>\n",
       "    </tr>\n",
       "    <tr>\n",
       "      <th>00 45</th>\n",
       "      <td>2.0</td>\n",
       "      <td>0.0</td>\n",
       "      <td>0.0</td>\n",
       "      <td>5.0</td>\n",
       "      <td>1.0</td>\n",
       "      <td>0.0</td>\n",
       "      <td>1.0</td>\n",
       "    </tr>\n",
       "    <tr>\n",
       "      <th>00 50</th>\n",
       "      <td>21.0</td>\n",
       "      <td>0.0</td>\n",
       "      <td>0.0</td>\n",
       "      <td>3.0</td>\n",
       "      <td>0.0</td>\n",
       "      <td>0.0</td>\n",
       "      <td>2.0</td>\n",
       "    </tr>\n",
       "    <tr>\n",
       "      <th>00 appointment</th>\n",
       "      <td>13.0</td>\n",
       "      <td>0.0</td>\n",
       "      <td>2.0</td>\n",
       "      <td>0.0</td>\n",
       "      <td>0.0</td>\n",
       "      <td>0.0</td>\n",
       "      <td>1.0</td>\n",
       "    </tr>\n",
       "    <tr>\n",
       "      <th>00 br</th>\n",
       "      <td>22.0</td>\n",
       "      <td>0.0</td>\n",
       "      <td>9.0</td>\n",
       "      <td>24.0</td>\n",
       "      <td>0.0</td>\n",
       "      <td>0.0</td>\n",
       "      <td>13.0</td>\n",
       "    </tr>\n",
       "    <tr>\n",
       "      <th>00 dd</th>\n",
       "      <td>4.0</td>\n",
       "      <td>0.0</td>\n",
       "      <td>3.0</td>\n",
       "      <td>2.0</td>\n",
       "      <td>0.0</td>\n",
       "      <td>0.0</td>\n",
       "      <td>1.0</td>\n",
       "    </tr>\n",
       "    <tr>\n",
       "      <th>00 em</th>\n",
       "      <td>3.0</td>\n",
       "      <td>0.0</td>\n",
       "      <td>0.0</td>\n",
       "      <td>1.0</td>\n",
       "      <td>0.0</td>\n",
       "      <td>0.0</td>\n",
       "      <td>1.0</td>\n",
       "    </tr>\n",
       "    <tr>\n",
       "      <th>00 files</th>\n",
       "      <td>0.0</td>\n",
       "      <td>0.0</td>\n",
       "      <td>1.0</td>\n",
       "      <td>23.0</td>\n",
       "      <td>0.0</td>\n",
       "      <td>0.0</td>\n",
       "      <td>9.0</td>\n",
       "    </tr>\n",
       "    <tr>\n",
       "      <th>00 gmt</th>\n",
       "      <td>0.0</td>\n",
       "      <td>0.0</td>\n",
       "      <td>1.0</td>\n",
       "      <td>1.0</td>\n",
       "      <td>1.0</td>\n",
       "      <td>0.0</td>\n",
       "      <td>2.0</td>\n",
       "    </tr>\n",
       "    <tr>\n",
       "      <th>00 li</th>\n",
       "      <td>4.0</td>\n",
       "      <td>0.0</td>\n",
       "      <td>3.0</td>\n",
       "      <td>11.0</td>\n",
       "      <td>0.0</td>\n",
       "      <td>0.0</td>\n",
       "      <td>4.0</td>\n",
       "    </tr>\n",
       "    <tr>\n",
       "      <th>00 noon</th>\n",
       "      <td>10.0</td>\n",
       "      <td>0.0</td>\n",
       "      <td>1.0</td>\n",
       "      <td>3.0</td>\n",
       "      <td>0.0</td>\n",
       "      <td>0.0</td>\n",
       "      <td>0.0</td>\n",
       "    </tr>\n",
       "    <tr>\n",
       "      <th>00 pm</th>\n",
       "      <td>83.0</td>\n",
       "      <td>2.0</td>\n",
       "      <td>8.0</td>\n",
       "      <td>49.0</td>\n",
       "      <td>0.0</td>\n",
       "      <td>0.0</td>\n",
       "      <td>10.0</td>\n",
       "    </tr>\n",
       "    <tr>\n",
       "      <th>00 pre</th>\n",
       "      <td>3.0</td>\n",
       "      <td>0.0</td>\n",
       "      <td>0.0</td>\n",
       "      <td>0.0</td>\n",
       "      <td>0.0</td>\n",
       "      <td>0.0</td>\n",
       "      <td>2.0</td>\n",
       "    </tr>\n",
       "    <tr>\n",
       "      <th>00 room</th>\n",
       "      <td>2.0</td>\n",
       "      <td>0.0</td>\n",
       "      <td>0.0</td>\n",
       "      <td>3.0</td>\n",
       "      <td>0.0</td>\n",
       "      <td>0.0</td>\n",
       "      <td>0.0</td>\n",
       "    </tr>\n",
       "    <tr>\n",
       "      <th>00 states</th>\n",
       "      <td>0.0</td>\n",
       "      <td>1.0</td>\n",
       "      <td>2.0</td>\n",
       "      <td>3.0</td>\n",
       "      <td>0.0</td>\n",
       "      <td>0.0</td>\n",
       "      <td>6.0</td>\n",
       "    </tr>\n",
       "    <tr>\n",
       "      <th>00 tay</th>\n",
       "      <td>5.0</td>\n",
       "      <td>0.0</td>\n",
       "      <td>0.0</td>\n",
       "      <td>1.0</td>\n",
       "      <td>0.0</td>\n",
       "      <td>0.0</td>\n",
       "      <td>0.0</td>\n",
       "    </tr>\n",
       "    <tr>\n",
       "      <th>00 td</th>\n",
       "      <td>19.0</td>\n",
       "      <td>0.0</td>\n",
       "      <td>12.0</td>\n",
       "      <td>46.0</td>\n",
       "      <td>0.0</td>\n",
       "      <td>0.0</td>\n",
       "      <td>1.0</td>\n",
       "    </tr>\n",
       "    <tr>\n",
       "      <th>00 th</th>\n",
       "      <td>2.0</td>\n",
       "      <td>0.0</td>\n",
       "      <td>1.0</td>\n",
       "      <td>33.0</td>\n",
       "      <td>0.0</td>\n",
       "      <td>0.0</td>\n",
       "      <td>14.0</td>\n",
       "    </tr>\n",
       "    <tr>\n",
       "      <th>00 thursday</th>\n",
       "      <td>6.0</td>\n",
       "      <td>0.0</td>\n",
       "      <td>2.0</td>\n",
       "      <td>1.0</td>\n",
       "      <td>0.0</td>\n",
       "      <td>0.0</td>\n",
       "      <td>1.0</td>\n",
       "    </tr>\n",
       "    <tr>\n",
       "      <th>00 tuesday</th>\n",
       "      <td>7.0</td>\n",
       "      <td>0.0</td>\n",
       "      <td>0.0</td>\n",
       "      <td>0.0</td>\n",
       "      <td>0.0</td>\n",
       "      <td>0.0</td>\n",
       "      <td>0.0</td>\n",
       "    </tr>\n",
       "    <tr>\n",
       "      <th>00 ul</th>\n",
       "      <td>8.0</td>\n",
       "      <td>0.0</td>\n",
       "      <td>0.0</td>\n",
       "      <td>1.0</td>\n",
       "      <td>0.0</td>\n",
       "      <td>0.0</td>\n",
       "      <td>0.0</td>\n",
       "    </tr>\n",
       "    <tr>\n",
       "      <th>00 wednesday</th>\n",
       "      <td>4.0</td>\n",
       "      <td>0.0</td>\n",
       "      <td>1.0</td>\n",
       "      <td>0.0</td>\n",
       "      <td>0.0</td>\n",
       "      <td>0.0</td>\n",
       "      <td>0.0</td>\n",
       "    </tr>\n",
       "    <tr>\n",
       "      <th>000</th>\n",
       "      <td>2.0</td>\n",
       "      <td>0.0</td>\n",
       "      <td>121.0</td>\n",
       "      <td>149.0</td>\n",
       "      <td>8.0</td>\n",
       "      <td>3.0</td>\n",
       "      <td>12.0</td>\n",
       "    </tr>\n",
       "    <tr>\n",
       "      <th>000 000</th>\n",
       "      <td>0.0</td>\n",
       "      <td>0.0</td>\n",
       "      <td>8.0</td>\n",
       "      <td>8.0</td>\n",
       "      <td>0.0</td>\n",
       "      <td>0.0</td>\n",
       "      <td>0.0</td>\n",
       "    </tr>\n",
       "    <tr>\n",
       "      <th>000 lines</th>\n",
       "      <td>0.0</td>\n",
       "      <td>0.0</td>\n",
       "      <td>1.0</td>\n",
       "      <td>7.0</td>\n",
       "      <td>1.0</td>\n",
       "      <td>0.0</td>\n",
       "      <td>2.0</td>\n",
       "    </tr>\n",
       "    <tr>\n",
       "      <th>000 people</th>\n",
       "      <td>0.0</td>\n",
       "      <td>0.0</td>\n",
       "      <td>2.0</td>\n",
       "      <td>2.0</td>\n",
       "      <td>0.0</td>\n",
       "      <td>2.0</td>\n",
       "      <td>1.0</td>\n",
       "    </tr>\n",
       "    <tr>\n",
       "      <th>0000</th>\n",
       "      <td>0.0</td>\n",
       "      <td>0.0</td>\n",
       "      <td>0.0</td>\n",
       "      <td>156.0</td>\n",
       "      <td>2.0</td>\n",
       "      <td>0.0</td>\n",
       "      <td>2.0</td>\n",
       "    </tr>\n",
       "    <tr>\n",
       "      <th>0000 html</th>\n",
       "      <td>0.0</td>\n",
       "      <td>0.0</td>\n",
       "      <td>0.0</td>\n",
       "      <td>7.0</td>\n",
       "      <td>0.0</td>\n",
       "      <td>0.0</td>\n",
       "      <td>0.0</td>\n",
       "    </tr>\n",
       "    <tr>\n",
       "      <th>00000</th>\n",
       "      <td>0.0</td>\n",
       "      <td>0.0</td>\n",
       "      <td>0.0</td>\n",
       "      <td>10.0</td>\n",
       "      <td>1.0</td>\n",
       "      <td>0.0</td>\n",
       "      <td>2.0</td>\n",
       "    </tr>\n",
       "    <tr>\n",
       "      <th>00000 table</th>\n",
       "      <td>0.0</td>\n",
       "      <td>0.0</td>\n",
       "      <td>0.0</td>\n",
       "      <td>4.0</td>\n",
       "      <td>1.0</td>\n",
       "      <td>0.0</td>\n",
       "      <td>0.0</td>\n",
       "    </tr>\n",
       "    <tr>\n",
       "      <th>000000</th>\n",
       "      <td>82.0</td>\n",
       "      <td>15.0</td>\n",
       "      <td>58.0</td>\n",
       "      <td>364.0</td>\n",
       "      <td>39.0</td>\n",
       "      <td>11.0</td>\n",
       "      <td>206.0</td>\n",
       "    </tr>\n",
       "    <tr>\n",
       "      <th>000000 alink</th>\n",
       "      <td>2.0</td>\n",
       "      <td>1.0</td>\n",
       "      <td>1.0</td>\n",
       "      <td>6.0</td>\n",
       "      <td>2.0</td>\n",
       "      <td>0.0</td>\n",
       "      <td>7.0</td>\n",
       "    </tr>\n",
       "    <tr>\n",
       "      <th>000000 background</th>\n",
       "      <td>2.0</td>\n",
       "      <td>0.0</td>\n",
       "      <td>0.0</td>\n",
       "      <td>3.0</td>\n",
       "      <td>0.0</td>\n",
       "      <td>0.0</td>\n",
       "      <td>3.0</td>\n",
       "    </tr>\n",
       "    <tr>\n",
       "      <th>000000 bgcolor</th>\n",
       "      <td>7.0</td>\n",
       "      <td>1.0</td>\n",
       "      <td>10.0</td>\n",
       "      <td>10.0</td>\n",
       "      <td>1.0</td>\n",
       "      <td>0.0</td>\n",
       "      <td>18.0</td>\n",
       "    </tr>\n",
       "    <tr>\n",
       "      <th>000000 body</th>\n",
       "      <td>0.0</td>\n",
       "      <td>0.0</td>\n",
       "      <td>3.0</td>\n",
       "      <td>11.0</td>\n",
       "      <td>0.0</td>\n",
       "      <td>1.0</td>\n",
       "      <td>4.0</td>\n",
       "    </tr>\n",
       "    <tr>\n",
       "      <th>000000 center</th>\n",
       "      <td>9.0</td>\n",
       "      <td>4.0</td>\n",
       "      <td>0.0</td>\n",
       "      <td>12.0</td>\n",
       "      <td>2.0</td>\n",
       "      <td>0.0</td>\n",
       "      <td>5.0</td>\n",
       "    </tr>\n",
       "    <tr>\n",
       "      <th>000000 font</th>\n",
       "      <td>7.0</td>\n",
       "      <td>0.0</td>\n",
       "      <td>0.0</td>\n",
       "      <td>17.0</td>\n",
       "      <td>1.0</td>\n",
       "      <td>0.0</td>\n",
       "      <td>1.0</td>\n",
       "    </tr>\n",
       "    <tr>\n",
       "      <th>000000 h1</th>\n",
       "      <td>4.0</td>\n",
       "      <td>0.0</td>\n",
       "      <td>2.0</td>\n",
       "      <td>12.0</td>\n",
       "      <td>5.0</td>\n",
       "      <td>0.0</td>\n",
       "      <td>5.0</td>\n",
       "    </tr>\n",
       "    <tr>\n",
       "      <th>000000 h2</th>\n",
       "      <td>1.0</td>\n",
       "      <td>0.0</td>\n",
       "      <td>0.0</td>\n",
       "      <td>4.0</td>\n",
       "      <td>0.0</td>\n",
       "      <td>0.0</td>\n",
       "      <td>0.0</td>\n",
       "    </tr>\n",
       "    <tr>\n",
       "      <th>000000 head</th>\n",
       "      <td>2.0</td>\n",
       "      <td>0.0</td>\n",
       "      <td>0.0</td>\n",
       "      <td>2.0</td>\n",
       "      <td>0.0</td>\n",
       "      <td>0.0</td>\n",
       "      <td>1.0</td>\n",
       "    </tr>\n",
       "    <tr>\n",
       "      <th>000000 link</th>\n",
       "      <td>24.0</td>\n",
       "      <td>7.0</td>\n",
       "      <td>25.0</td>\n",
       "      <td>137.0</td>\n",
       "      <td>20.0</td>\n",
       "      <td>4.0</td>\n",
       "      <td>65.0</td>\n",
       "    </tr>\n",
       "  </tbody>\n",
       "</table>\n",
       "</div>"
      ],
      "text/plain": [
       "                   course  department  faculty   other  project  staff  \\\n",
       "token                                                                    \n",
       "00                  745.0        12.0    140.0  6378.0     26.0    0.0   \n",
       "00 00               145.0         1.0     32.0  2002.0      2.0    0.0   \n",
       "00 00pm              41.0         0.0      1.0    15.0      0.0    0.0   \n",
       "00 10                20.0         0.0      0.0    23.0      0.0    0.0   \n",
       "00 11                58.0         0.0      6.0    28.0      0.0    0.0   \n",
       "00 12                56.0         0.0      6.0    21.0      0.0    0.0   \n",
       "00 15                16.0         0.0      1.0     6.0      0.0    0.0   \n",
       "00 1996               7.0         0.0      1.0     2.0      1.0    0.0   \n",
       "00 20                 4.0         0.0      4.0    18.0      0.0    0.0   \n",
       "00 30                29.0         2.0      4.0    44.0      1.0    0.0   \n",
       "00 45                 2.0         0.0      0.0     5.0      1.0    0.0   \n",
       "00 50                21.0         0.0      0.0     3.0      0.0    0.0   \n",
       "00 appointment       13.0         0.0      2.0     0.0      0.0    0.0   \n",
       "00 br                22.0         0.0      9.0    24.0      0.0    0.0   \n",
       "00 dd                 4.0         0.0      3.0     2.0      0.0    0.0   \n",
       "00 em                 3.0         0.0      0.0     1.0      0.0    0.0   \n",
       "00 files              0.0         0.0      1.0    23.0      0.0    0.0   \n",
       "00 gmt                0.0         0.0      1.0     1.0      1.0    0.0   \n",
       "00 li                 4.0         0.0      3.0    11.0      0.0    0.0   \n",
       "00 noon              10.0         0.0      1.0     3.0      0.0    0.0   \n",
       "00 pm                83.0         2.0      8.0    49.0      0.0    0.0   \n",
       "00 pre                3.0         0.0      0.0     0.0      0.0    0.0   \n",
       "00 room               2.0         0.0      0.0     3.0      0.0    0.0   \n",
       "00 states             0.0         1.0      2.0     3.0      0.0    0.0   \n",
       "00 tay                5.0         0.0      0.0     1.0      0.0    0.0   \n",
       "00 td                19.0         0.0     12.0    46.0      0.0    0.0   \n",
       "00 th                 2.0         0.0      1.0    33.0      0.0    0.0   \n",
       "00 thursday           6.0         0.0      2.0     1.0      0.0    0.0   \n",
       "00 tuesday            7.0         0.0      0.0     0.0      0.0    0.0   \n",
       "00 ul                 8.0         0.0      0.0     1.0      0.0    0.0   \n",
       "00 wednesday          4.0         0.0      1.0     0.0      0.0    0.0   \n",
       "000                   2.0         0.0    121.0   149.0      8.0    3.0   \n",
       "000 000               0.0         0.0      8.0     8.0      0.0    0.0   \n",
       "000 lines             0.0         0.0      1.0     7.0      1.0    0.0   \n",
       "000 people            0.0         0.0      2.0     2.0      0.0    2.0   \n",
       "0000                  0.0         0.0      0.0   156.0      2.0    0.0   \n",
       "0000 html             0.0         0.0      0.0     7.0      0.0    0.0   \n",
       "00000                 0.0         0.0      0.0    10.0      1.0    0.0   \n",
       "00000 table           0.0         0.0      0.0     4.0      1.0    0.0   \n",
       "000000               82.0        15.0     58.0   364.0     39.0   11.0   \n",
       "000000 alink          2.0         1.0      1.0     6.0      2.0    0.0   \n",
       "000000 background     2.0         0.0      0.0     3.0      0.0    0.0   \n",
       "000000 bgcolor        7.0         1.0     10.0    10.0      1.0    0.0   \n",
       "000000 body           0.0         0.0      3.0    11.0      0.0    1.0   \n",
       "000000 center         9.0         4.0      0.0    12.0      2.0    0.0   \n",
       "000000 font           7.0         0.0      0.0    17.0      1.0    0.0   \n",
       "000000 h1             4.0         0.0      2.0    12.0      5.0    0.0   \n",
       "000000 h2             1.0         0.0      0.0     4.0      0.0    0.0   \n",
       "000000 head           2.0         0.0      0.0     2.0      0.0    0.0   \n",
       "000000 link          24.0         7.0     25.0   137.0     20.0    4.0   \n",
       "\n",
       "                   student  \n",
       "token                       \n",
       "00                   135.0  \n",
       "00 00                 17.0  \n",
       "00 00pm                2.0  \n",
       "00 10                  3.0  \n",
       "00 11                  5.0  \n",
       "00 12                  6.0  \n",
       "00 15                  2.0  \n",
       "00 1996                1.0  \n",
       "00 20                  0.0  \n",
       "00 30                  4.0  \n",
       "00 45                  1.0  \n",
       "00 50                  2.0  \n",
       "00 appointment         1.0  \n",
       "00 br                 13.0  \n",
       "00 dd                  1.0  \n",
       "00 em                  1.0  \n",
       "00 files               9.0  \n",
       "00 gmt                 2.0  \n",
       "00 li                  4.0  \n",
       "00 noon                0.0  \n",
       "00 pm                 10.0  \n",
       "00 pre                 2.0  \n",
       "00 room                0.0  \n",
       "00 states              6.0  \n",
       "00 tay                 0.0  \n",
       "00 td                  1.0  \n",
       "00 th                 14.0  \n",
       "00 thursday            1.0  \n",
       "00 tuesday             0.0  \n",
       "00 ul                  0.0  \n",
       "00 wednesday           0.0  \n",
       "000                   12.0  \n",
       "000 000                0.0  \n",
       "000 lines              2.0  \n",
       "000 people             1.0  \n",
       "0000                   2.0  \n",
       "0000 html              0.0  \n",
       "00000                  2.0  \n",
       "00000 table            0.0  \n",
       "000000               206.0  \n",
       "000000 alink           7.0  \n",
       "000000 background      3.0  \n",
       "000000 bgcolor        18.0  \n",
       "000000 body            4.0  \n",
       "000000 center          5.0  \n",
       "000000 font            1.0  \n",
       "000000 h1              5.0  \n",
       "000000 h2              0.0  \n",
       "000000 head            1.0  \n",
       "000000 link           65.0  "
      ]
     },
     "execution_count": 129,
     "metadata": {},
     "output_type": "execute_result"
    }
   ],
   "source": [
    "# create a DataFrame of tokens with their separate target counts\n",
    "tokens = pd.DataFrame({'token':X_train_tokens, 'course':course_token_count, 'department':department_token_count, 'faculty':faculty_token_count, 'other':other_token_count, 'project':project_token_count, 'staff':staff_token_count, 'student':student_token_count}).set_index('token')\n",
    "tokens[:50]"
   ]
  },
  {
   "cell_type": "code",
   "execution_count": 130,
   "metadata": {},
   "outputs": [
    {
     "data": {
      "text/html": [
       "<div>\n",
       "<style>\n",
       "    .dataframe thead tr:only-child th {\n",
       "        text-align: right;\n",
       "    }\n",
       "\n",
       "    .dataframe thead th {\n",
       "        text-align: left;\n",
       "    }\n",
       "\n",
       "    .dataframe tbody tr th {\n",
       "        vertical-align: top;\n",
       "    }\n",
       "</style>\n",
       "<table border=\"1\" class=\"dataframe\">\n",
       "  <thead>\n",
       "    <tr style=\"text-align: right;\">\n",
       "      <th></th>\n",
       "      <th>course</th>\n",
       "      <th>department</th>\n",
       "      <th>faculty</th>\n",
       "      <th>other</th>\n",
       "      <th>project</th>\n",
       "      <th>staff</th>\n",
       "      <th>student</th>\n",
       "    </tr>\n",
       "    <tr>\n",
       "      <th>token</th>\n",
       "      <th></th>\n",
       "      <th></th>\n",
       "      <th></th>\n",
       "      <th></th>\n",
       "      <th></th>\n",
       "      <th></th>\n",
       "      <th></th>\n",
       "    </tr>\n",
       "  </thead>\n",
       "  <tbody>\n",
       "    <tr>\n",
       "      <th>panix</th>\n",
       "      <td>0.0</td>\n",
       "      <td>0.0</td>\n",
       "      <td>1.0</td>\n",
       "      <td>10.0</td>\n",
       "      <td>0.0</td>\n",
       "      <td>0.0</td>\n",
       "      <td>3.0</td>\n",
       "    </tr>\n",
       "    <tr>\n",
       "      <th>carter</th>\n",
       "      <td>25.0</td>\n",
       "      <td>0.0</td>\n",
       "      <td>10.0</td>\n",
       "      <td>37.0</td>\n",
       "      <td>2.0</td>\n",
       "      <td>0.0</td>\n",
       "      <td>18.0</td>\n",
       "    </tr>\n",
       "    <tr>\n",
       "      <th>dist</th>\n",
       "      <td>19.0</td>\n",
       "      <td>0.0</td>\n",
       "      <td>11.0</td>\n",
       "      <td>20.0</td>\n",
       "      <td>11.0</td>\n",
       "      <td>1.0</td>\n",
       "      <td>8.0</td>\n",
       "    </tr>\n",
       "    <tr>\n",
       "      <th>systems allow</th>\n",
       "      <td>0.0</td>\n",
       "      <td>0.0</td>\n",
       "      <td>2.0</td>\n",
       "      <td>4.0</td>\n",
       "      <td>1.0</td>\n",
       "      <td>0.0</td>\n",
       "      <td>0.0</td>\n",
       "    </tr>\n",
       "    <tr>\n",
       "      <th>symposium reliable</th>\n",
       "      <td>0.0</td>\n",
       "      <td>0.0</td>\n",
       "      <td>2.0</td>\n",
       "      <td>2.0</td>\n",
       "      <td>0.0</td>\n",
       "      <td>0.0</td>\n",
       "      <td>3.0</td>\n",
       "    </tr>\n",
       "    <tr>\n",
       "      <th>bo</th>\n",
       "      <td>0.0</td>\n",
       "      <td>0.0</td>\n",
       "      <td>2.0</td>\n",
       "      <td>5.0</td>\n",
       "      <td>0.0</td>\n",
       "      <td>0.0</td>\n",
       "      <td>2.0</td>\n",
       "    </tr>\n",
       "    <tr>\n",
       "      <th>homepage br</th>\n",
       "      <td>5.0</td>\n",
       "      <td>0.0</td>\n",
       "      <td>0.0</td>\n",
       "      <td>16.0</td>\n",
       "      <td>0.0</td>\n",
       "      <td>0.0</td>\n",
       "      <td>17.0</td>\n",
       "    </tr>\n",
       "    <tr>\n",
       "      <th>dennis lee</th>\n",
       "      <td>0.0</td>\n",
       "      <td>0.0</td>\n",
       "      <td>2.0</td>\n",
       "      <td>1.0</td>\n",
       "      <td>2.0</td>\n",
       "      <td>0.0</td>\n",
       "      <td>3.0</td>\n",
       "    </tr>\n",
       "  </tbody>\n",
       "</table>\n",
       "</div>"
      ],
      "text/plain": [
       "                    course  department  faculty  other  project  staff  \\\n",
       "token                                                                    \n",
       "panix                  0.0         0.0      1.0   10.0      0.0    0.0   \n",
       "carter                25.0         0.0     10.0   37.0      2.0    0.0   \n",
       "dist                  19.0         0.0     11.0   20.0     11.0    1.0   \n",
       "systems allow          0.0         0.0      2.0    4.0      1.0    0.0   \n",
       "symposium reliable     0.0         0.0      2.0    2.0      0.0    0.0   \n",
       "bo                     0.0         0.0      2.0    5.0      0.0    0.0   \n",
       "homepage br            5.0         0.0      0.0   16.0      0.0    0.0   \n",
       "dennis lee             0.0         0.0      2.0    1.0      2.0    0.0   \n",
       "\n",
       "                    student  \n",
       "token                        \n",
       "panix                   3.0  \n",
       "carter                 18.0  \n",
       "dist                    8.0  \n",
       "systems allow           0.0  \n",
       "symposium reliable      3.0  \n",
       "bo                      2.0  \n",
       "homepage br            17.0  \n",
       "dennis lee              3.0  "
      ]
     },
     "execution_count": 130,
     "metadata": {},
     "output_type": "execute_result"
    }
   ],
   "source": [
    "# examine 5 random DataFrame rows\n",
    "tokens.sample(8, random_state=10)"
   ]
  },
  {
   "cell_type": "markdown",
   "metadata": {},
   "source": [
    "# Training with an university (Wisconsin) and testing on Washington university."
   ]
  },
  {
   "cell_type": "code",
   "execution_count": 17,
   "metadata": {},
   "outputs": [],
   "source": [
    "washington = one[one.university == 'washington']\n",
    "wisconsin = one[one.university == 'wisconsin']"
   ]
  },
  {
   "cell_type": "code",
   "execution_count": 18,
   "metadata": {},
   "outputs": [
    {
     "data": {
      "text/plain": [
       "((1205, 5), (1262, 5))"
      ]
     },
     "execution_count": 18,
     "metadata": {},
     "output_type": "execute_result"
    }
   ],
   "source": [
    "washington.shape, wisconsin.shape"
   ]
  },
  {
   "cell_type": "code",
   "execution_count": 20,
   "metadata": {},
   "outputs": [
    {
     "data": {
      "text/plain": [
       "((1262,), (1262,), (1205,), (1205,))"
      ]
     },
     "execution_count": 20,
     "metadata": {},
     "output_type": "execute_result"
    }
   ],
   "source": [
    "# Define X and y (from the data) for use with COUNTVECTORIZER\n",
    "\n",
    "#Training data\n",
    "\n",
    "X_wisconsin = wisconsin.html\n",
    "y_wisconsin = wisconsin.target_num\n",
    "\n",
    "\n",
    "#Testing data\n",
    "\n",
    "X_washington = washington.html\n",
    "y_washington = washington.target_num\n",
    "X_wisconsin.shape, y_wisconsin.shape, X_washington.shape, y_washington.shape"
   ]
  },
  {
   "cell_type": "code",
   "execution_count": 21,
   "metadata": {},
   "outputs": [
    {
     "data": {
      "text/plain": [
       "<1262x16768 sparse matrix of type '<type 'numpy.int64'>'\n",
       "\twith 375003 stored elements in Compressed Sparse Row format>"
      ]
     },
     "execution_count": 21,
     "metadata": {},
     "output_type": "execute_result"
    }
   ],
   "source": [
    "from sklearn.feature_extraction.text import CountVectorizer\n",
    "#from sklearn.feature_extraction.text import TfidfVectorizer\n",
    "\n",
    "# instantiate the vectorizer\n",
    "\n",
    "vect = CountVectorizer(encoding='latin-1', stop_words='english', ngram_range=(1, 2), min_df=5)\n",
    "#vect = TfidfVectorizer(encoding='latin-1', stop_words='english', ngram_range=(1, 2), min_df=5)\n",
    "# Esse tfIdf deu ruim\n",
    "\n",
    "                       \n",
    "# combine fit and transform into a single step\n",
    "\n",
    "X_wisconsin_dtm = vect.fit_transform(X_wisconsin)\n",
    "X_wisconsin_dtm"
   ]
  },
  {
   "cell_type": "code",
   "execution_count": 23,
   "metadata": {},
   "outputs": [
    {
     "data": {
      "text/plain": [
       "<1205x16768 sparse matrix of type '<type 'numpy.int64'>'\n",
       "\twith 245806 stored elements in Compressed Sparse Row format>"
      ]
     },
     "execution_count": 23,
     "metadata": {},
     "output_type": "execute_result"
    }
   ],
   "source": [
    "# transform testing data (using fitted vocabulary) into a document-term matrix\n",
    "\n",
    "X_washington_dtm = vect.transform(X_washington)\n",
    "X_washington_dtm"
   ]
  },
  {
   "cell_type": "markdown",
   "metadata": {},
   "source": [
    "## Machine Learning"
   ]
  },
  {
   "cell_type": "markdown",
   "metadata": {},
   "source": [
    "### Random Forest"
   ]
  },
  {
   "cell_type": "code",
   "execution_count": 25,
   "metadata": {},
   "outputs": [
    {
     "name": "stdout",
     "output_type": "stream",
     "text": [
      "CPU times: user 3.99 s, sys: 8 ms, total: 4 s\n",
      "Wall time: 3.96 s\n"
     ]
    },
    {
     "data": {
      "text/plain": [
       "0.7850622406639004"
      ]
     },
     "execution_count": 25,
     "metadata": {},
     "output_type": "execute_result"
    }
   ],
   "source": [
    "from sklearn.ensemble import RandomForestClassifier\n",
    "from sklearn import metrics\n",
    "\n",
    "forest = RandomForestClassifier(n_estimators=300)\n",
    "\n",
    "%time forest.fit(X_wisconsin_dtm, y_wisconsin)\n",
    "\n",
    "y_pred_washington = forest.predict(X_washington_dtm)\n",
    "\n",
    "metrics.accuracy_score(y_washington, y_pred_washington)"
   ]
  },
  {
   "cell_type": "code",
   "execution_count": null,
   "metadata": {
    "collapsed": true
   },
   "outputs": [],
   "source": []
  }
 ],
 "metadata": {
  "kernelspec": {
   "display_name": "Python 2",
   "language": "python",
   "name": "python2"
  },
  "language_info": {
   "codemirror_mode": {
    "name": "ipython",
    "version": 2
   },
   "file_extension": ".py",
   "mimetype": "text/x-python",
   "name": "python",
   "nbconvert_exporter": "python",
   "pygments_lexer": "ipython2",
   "version": "2.7.13"
  }
 },
 "nbformat": 4,
 "nbformat_minor": 2
}
